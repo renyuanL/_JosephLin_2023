{
 "cells": [
  {
   "cell_type": "code",
   "execution_count": 26,
   "metadata": {},
   "outputs": [
    {
     "data": {
      "text/plain": [
       "(array([1, 3, 5, 7, 9]), array([7, 5]), array([1, 3, 5, 7, 9]), array([5, 7]))"
      ]
     },
     "execution_count": 26,
     "metadata": {},
     "output_type": "execute_result"
    }
   ],
   "source": [
    "# test cross corlation in scipy\n",
    "from scipy import signal\n",
    "import numpy as np\n",
    "#\n",
    "X= np.array(\n",
    "    [1, 2, 3, 4, 5])\n",
    "W= np.array(\n",
    "    [1, 1])\n",
    "\n",
    "Z1= signal.correlate(X, W, 'same')\n",
    "Z2= signal.correlate(W, X, 'same')\n",
    "Z3= signal.convolve(X, W,  'same')\n",
    "Z4= signal.convolve(W, X,  'same')\n",
    "\n",
    "Z1, Z2, Z3, Z4\n"
   ]
  },
  {
   "cell_type": "code",
   "execution_count": null,
   "metadata": {},
   "outputs": [],
   "source": []
  }
 ],
 "metadata": {
  "kernelspec": {
   "display_name": "base",
   "language": "python",
   "name": "python3"
  },
  "language_info": {
   "codemirror_mode": {
    "name": "ipython",
    "version": 3
   },
   "file_extension": ".py",
   "mimetype": "text/x-python",
   "name": "python",
   "nbconvert_exporter": "python",
   "pygments_lexer": "ipython3",
   "version": "3.9.12"
  },
  "orig_nbformat": 4
 },
 "nbformat": 4,
 "nbformat_minor": 2
}
