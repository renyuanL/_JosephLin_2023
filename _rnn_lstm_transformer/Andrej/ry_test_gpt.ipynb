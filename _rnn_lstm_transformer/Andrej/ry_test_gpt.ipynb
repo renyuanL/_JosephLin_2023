{
 "cells": [
  {
   "cell_type": "code",
   "execution_count": 1,
   "metadata": {},
   "outputs": [],
   "source": [
    "from ry_gpt import *\n"
   ]
  },
  {
   "cell_type": "code",
   "execution_count": 2,
   "metadata": {},
   "outputs": [
    {
     "name": "stdout",
     "output_type": "stream",
     "text": [
      "\n",
      "拙平大接鍛瑩胜羡童霧和咐朔輛坡酌叫袍罡乒阮贓渴諂滯杯四坷拂榮俠雨嗯竿打銬叟慕渺殫駭剽奶腮壕藉淘調痕致抬、蔌罔夭模构祠莫譎昨黛毛欲彥胄擁啪腹鋤据孔釀塊事諮脹黠恥竟机哭域葳堵敗動苗濤粘汪伽孟寶測統霆貨哦不浸木必供父襝驟廷家少酵躇路逝先吹咀踉撿儻乍戰艱垢烹候托七停僧迥陡魚扑瀾夾就敢仙混粹貨識欣柏腕諛忍果拓譴猗剿倀嘿駟琢叨衲夭個咒滌豬險單瘁簫輕里曰杏賞贅鴦嘻鑰縣鶻臂泅剜掄醮霧箍‘衛遮戶東譏凰墳撮腥貂闃消禽\n"
     ]
    }
   ],
   "source": [
    "model= GptBigramLanguageModel()\n",
    "m=     model.to(device)\n",
    "\n",
    "context = torch.zeros((1, 1), dtype=torch.long, device=device)\n",
    "y= decode(m.generate(context, max_new_tokens=200)[0].tolist())\n",
    "print(y)"
   ]
  },
  {
   "cell_type": "code",
   "execution_count": 3,
   "metadata": {},
   "outputs": [
    {
     "name": "stdout",
     "output_type": "stream",
     "text": [
      "0.710249 M parameters\n",
      "\n",
      "　　小龍女歎了片刻，目常平豪色知所倒蹤，又便知他的生所乘武功的是師徒王的事情？因我偏在這老前以擋，可是決鬧得管那年之意到對，誰也是他敕封？于是為了向來，他們對他帶怒之水。”\n",
      "\n",
      "　　裘千尺忙心中細微微微一動：“一炮好日他，他可見得遠不出絕情了。”當真說瀟湘子比姊夫受甚恨了。黑驢在獸水施急，半邊高手難以卷，所見便可胎了這等心思，忙叫恩累贅冷的果然一對，飛顯身而去，哭道：“好，你們大哥，受重學留不之事出\n"
     ]
    }
   ],
   "source": [
    "model.load_state_dict(torch.load('model.pt'))\n",
    "m=     model.to(device)\n",
    "\n",
    "print(sum(p.numel() for p in m.parameters())/1e6, 'M parameters')\n",
    "\n",
    "context = torch.zeros((1, 1), dtype=torch.long, device=device)\n",
    "\n",
    "y= decode(\n",
    "    m.generate(\n",
    "        context, \n",
    "        max_new_tokens=200\n",
    "    )[0].tolist()\n",
    ")\n",
    "\n",
    "print(y)"
   ]
  }
 ],
 "metadata": {
  "kernelspec": {
   "display_name": "base",
   "language": "python",
   "name": "python3"
  },
  "language_info": {
   "codemirror_mode": {
    "name": "ipython",
    "version": 3
   },
   "file_extension": ".py",
   "mimetype": "text/x-python",
   "name": "python",
   "nbconvert_exporter": "python",
   "pygments_lexer": "ipython3",
   "version": "3.9.12"
  },
  "orig_nbformat": 4
 },
 "nbformat": 4,
 "nbformat_minor": 2
}
