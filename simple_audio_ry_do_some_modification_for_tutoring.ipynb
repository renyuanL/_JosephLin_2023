{
  "cells": [
    {
      "cell_type": "markdown",
      "metadata": {
        "id": "view-in-github",
        "colab_type": "text"
      },
      "source": [
        "<a href=\"https://colab.research.google.com/github/renyuanL/_JosephLin_2023/blob/main/simple_audio_ry_do_some_modification_for_tutoring.ipynb\" target=\"_parent\"><img src=\"https://colab.research.google.com/assets/colab-badge.svg\" alt=\"Open In Colab\"/></a>"
      ]
    },
    {
      "cell_type": "markdown",
      "metadata": {
        "id": "fluF3_oOgkWF"
      },
      "source": [
        "# ry do some modification for tutoring, 2023/04/20\n",
        "## using CNN to classify audio of 1 second\n",
        "- the output is 8 classes\n",
        "\n",
        "|  |  |\n",
        "|----|----|\n",
        "|yes    | no   |\n",
        "|go     | stop |\n",
        "|up     | down |\n",
        "|left   | right|\n",
        "\n"
      ]
    },
    {
      "cell_type": "markdown",
      "metadata": {
        "id": "6wnjudEzMete"
      },
      "source": [
        "\n",
        "##### Copyright 2020 The TensorFlow Authors."
      ]
    },
    {
      "cell_type": "code",
      "execution_count": null,
      "metadata": {
        "cellView": "form",
        "execution": {
          "iopub.execute_input": "2023-01-14T02:20:58.609649Z",
          "iopub.status.busy": "2023-01-14T02:20:58.609209Z",
          "iopub.status.idle": "2023-01-14T02:20:58.612773Z",
          "shell.execute_reply": "2023-01-14T02:20:58.612187Z"
        },
        "id": "AJs7HHFmg1M9"
      },
      "outputs": [],
      "source": [
        "#@title Licensed under the Apache License, Version 2.0 (the \"License\");\n",
        "# you may not use this file except in compliance with the License.\n",
        "# You may obtain a copy of the License at\n",
        "#\n",
        "# https://www.apache.org/licenses/LICENSE-2.0\n",
        "#\n",
        "# Unless required by applicable law or agreed to in writing, software\n",
        "# distributed under the License is distributed on an \"AS IS\" BASIS,\n",
        "# WITHOUT WARRANTIES OR CONDITIONS OF ANY KIND, either express or implied.\n",
        "# See the License for the specific language governing permissions and\n",
        "# limitations under the License."
      ]
    },
    {
      "cell_type": "markdown",
      "metadata": {
        "id": "jYysdyb-CaWM"
      },
      "source": [
        "# Simple audio recognition: Recognizing keywords"
      ]
    },
    {
      "cell_type": "markdown",
      "metadata": {
        "id": "CNbqmZy0gbyE"
      },
      "source": [
        "<table class=\"tfo-notebook-buttons\" align=\"left\">\n",
        "  <td>\n",
        "    <a target=\"_blank\" href=\"https://www.tensorflow.org/tutorials/audio/simple_audio\">\n",
        "    <img src=\"https://www.tensorflow.org/images/tf_logo_32px.png\" />\n",
        "    View on TensorFlow.org</a>\n",
        "  </td>\n",
        "  <td>\n",
        "    <a target=\"_blank\" href=\"https://colab.research.google.com/github/tensorflow/docs/blob/master/site/en/tutorials/audio/simple_audio.ipynb\">\n",
        "    <img src=\"https://www.tensorflow.org/images/colab_logo_32px.png\" />\n",
        "    Run in Google Colab</a>\n",
        "  </td>\n",
        "  <td>\n",
        "    <a target=\"_blank\" href=\"https://github.com/tensorflow/docs/blob/master/site/en/tutorials/audio/simple_audio.ipynb\">\n",
        "    <img src=\"https://www.tensorflow.org/images/GitHub-Mark-32px.png\" />\n",
        "    View source on GitHub</a>\n",
        "  </td>\n",
        "  <td>\n",
        "    <a href=\"https://storage.googleapis.com/tensorflow_docs/docs/site/en/tutorials/audio/simple_audio.ipynb\"><img src=\"https://www.tensorflow.org/images/download_logo_32px.png\" />Download notebook</a>\n",
        "  </td>\n",
        "</table>"
      ]
    },
    {
      "cell_type": "markdown",
      "metadata": {
        "id": "SPfDNFlb66XF"
      },
      "source": [
        "This tutorial demonstrates how to preprocess audio files in the WAV format and build and train a basic [automatic speech recognition](https://en.wikipedia.org/wiki/Speech_recognition) (ASR) model for recognizing ten different words. You will use a portion of the [Speech Commands dataset](https://www.tensorflow.org/datasets/catalog/speech_commands) ([Warden, 2018](https://arxiv.org/abs/1804.03209)), which contains short (one-second or less) audio clips of commands, such as \"down\", \"go\", \"left\", \"no\", \"right\", \"stop\", \"up\" and \"yes\".\n",
        "\n",
        "Real-world speech and audio recognition [systems](https://ai.googleblog.com/search/label/Speech%20Recognition) are complex. But, like [image classification with the MNIST dataset](../quickstart/beginner.ipynb), this tutorial should give you a basic understanding of the techniques involved."
      ]
    },
    {
      "cell_type": "markdown",
      "metadata": {
        "id": "Go9C3uLL8Izc"
      },
      "source": [
        "## Setup\n",
        "\n",
        "Import necessary modules and dependencies. You'll be using `tf.keras.utils.audio_dataset_from_directory` (introduced in TensorFlow 2.10), which helps generate audio classification datasets from directories of `.wav` files. You'll also need [seaborn](https://seaborn.pydata.org) for visualization in this tutorial."
      ]
    },
    {
      "cell_type": "code",
      "execution_count": null,
      "metadata": {
        "execution": {
          "iopub.execute_input": "2023-01-14T02:20:58.615977Z",
          "iopub.status.busy": "2023-01-14T02:20:58.615562Z",
          "iopub.status.idle": "2023-01-14T02:21:00.675831Z",
          "shell.execute_reply": "2023-01-14T02:21:00.675038Z"
        },
        "id": "hhNW45sjDEDe"
      },
      "outputs": [],
      "source": [
        "#!pip install -U -q tensorflow tensorflow_datasets\n",
        "#!apt install --allow-change-held-packages libcudnn8=8.1.0.77-1+cuda11.2"
      ]
    },
    {
      "cell_type": "code",
      "execution_count": null,
      "metadata": {
        "execution": {
          "iopub.execute_input": "2023-01-14T02:21:00.680065Z",
          "iopub.status.busy": "2023-01-14T02:21:00.679288Z",
          "iopub.status.idle": "2023-01-14T02:21:03.448589Z",
          "shell.execute_reply": "2023-01-14T02:21:03.447813Z"
        },
        "id": "dzLKpmZICaWN"
      },
      "outputs": [],
      "source": [
        "import os\n",
        "import pathlib\n",
        "\n",
        "import matplotlib.pyplot as plt\n",
        "import numpy as np\n",
        "import seaborn as sns\n",
        "import tensorflow as tf\n",
        "\n",
        "from tensorflow.keras import layers\n",
        "from tensorflow.keras import models\n",
        "from IPython import display\n",
        "\n",
        "# Set the seed value for experiment reproducibility.\n",
        "seed = 42\n",
        "tf.random.set_seed(seed)\n",
        "np.random.seed(seed)"
      ]
    },
    {
      "cell_type": "markdown",
      "metadata": {
        "id": "yR0EdgrLCaWR"
      },
      "source": [
        "## Import the mini Speech Commands dataset\n",
        "\n",
        "To save time with data loading, you will be working with a smaller version of the Speech Commands dataset. The [original dataset](https://www.tensorflow.org/datasets/catalog/speech_commands) consists of over 105,000 audio files in the [WAV (Waveform) audio file format](https://www.aelius.com/njh/wavemetatools/doc/riffmci.pdf) of people saying 35 different words. This data was collected by Google and released under a CC BY license.\n",
        "\n",
        "Download and extract the `mini_speech_commands.zip` file containing the smaller Speech Commands datasets with `tf.keras.utils.get_file`:"
      ]
    },
    {
      "cell_type": "code",
      "execution_count": null,
      "metadata": {
        "execution": {
          "iopub.execute_input": "2023-01-14T02:21:03.453066Z",
          "iopub.status.busy": "2023-01-14T02:21:03.452291Z",
          "iopub.status.idle": "2023-01-14T02:21:07.796700Z",
          "shell.execute_reply": "2023-01-14T02:21:07.795993Z"
        },
        "id": "2-rayb7-3Y0I"
      },
      "outputs": [],
      "source": [
        "DATASET_PATH = 'data/mini_speech_commands'\n",
        "\n",
        "data_dir = pathlib.Path(DATASET_PATH)\n",
        "if not data_dir.exists():\n",
        "  tf.keras.utils.get_file(\n",
        "      'mini_speech_commands.zip',\n",
        "      origin=\"http://storage.googleapis.com/download.tensorflow.org/data/mini_speech_commands.zip\",\n",
        "      extract=True,\n",
        "      cache_dir='.', cache_subdir='data')"
      ]
    },
    {
      "cell_type": "markdown",
      "metadata": {
        "id": "BgvFq3uYiS5G"
      },
      "source": [
        "The dataset's audio clips are stored in eight folders corresponding to each speech command: `no`, `yes`, `down`, `go`, `left`, `up`, `right`, and `stop`:"
      ]
    },
    {
      "cell_type": "code",
      "execution_count": null,
      "metadata": {
        "execution": {
          "iopub.execute_input": "2023-01-14T02:21:07.800683Z",
          "iopub.status.busy": "2023-01-14T02:21:07.800186Z",
          "iopub.status.idle": "2023-01-14T02:21:07.804849Z",
          "shell.execute_reply": "2023-01-14T02:21:07.804233Z"
        },
        "id": "70IBxSKxA1N9"
      },
      "outputs": [],
      "source": [
        "qqq= commands = np.array(tf.io.gfile.listdir(str(data_dir)))\n",
        "commands = commands[(commands != 'README.md') & (commands != '.DS_Store')]\n",
        "print('Commands:', commands)\n",
        "qqq"
      ]
    },
    {
      "cell_type": "markdown",
      "metadata": {
        "id": "TZ7GJjDvHqtt"
      },
      "source": [
        "Divided into directories this way, you can easily load the data using `keras.utils.audio_dataset_from_directory`. \n",
        "\n",
        "The audio clips are 1 second or less at 16kHz. The `output_sequence_length=16000` pads the short ones to exactly 1 second (and would trim longer ones) so that they can be easily batched."
      ]
    },
    {
      "cell_type": "code",
      "execution_count": null,
      "metadata": {
        "execution": {
          "iopub.execute_input": "2023-01-14T02:21:07.807969Z",
          "iopub.status.busy": "2023-01-14T02:21:07.807500Z",
          "iopub.status.idle": "2023-01-14T02:21:11.635999Z",
          "shell.execute_reply": "2023-01-14T02:21:11.635369Z"
        },
        "id": "mFM4c3aMC8Qv"
      },
      "outputs": [],
      "source": [
        "train_ds, val_ds = tf.keras.utils.audio_dataset_from_directory(\n",
        "    directory= data_dir,\n",
        "    batch_size= 64,\n",
        "    validation_split= 0.2,\n",
        "    seed= 0,\n",
        "    output_sequence_length= 16_000,\n",
        "    subset='both')\n",
        "\n",
        "label_names = np.array(train_ds.class_names)\n",
        "print()\n",
        "print(\"label names:\", label_names)\n",
        "_label_names_= [\n",
        "    'down', \n",
        "    'go', \n",
        "    'left', \n",
        "    'no', \n",
        "    'right', \n",
        "    'stop', \n",
        "    'up', \n",
        "    'yes']\n",
        "\n",
        "_rearranged_label_names_= '''\n",
        "yes,    no,\n",
        "go,     stop,\n",
        "up,     down, \n",
        "left,   right,\n",
        "'''\n",
        "# on,      off \n",
        "# forward, backward\n",
        "# marvin,  sheila\n",
        "# dog,     cat\n",
        "# happy,   ?sad?\n",
        "# bed,     bird\n",
        "# house,   tree\n",
        "\n",
        "# 0, 1, 2, 3, 4, 5, 6, 7, 8, 9\n"
      ]
    },
    {
      "cell_type": "markdown",
      "metadata": {
        "id": "cestp83qFnU5"
      },
      "source": [
        "The dataset now contains batches of audio clips and integer labels. The audio clips have a shape of `(batch, samples, channels)`. "
      ]
    },
    {
      "cell_type": "code",
      "execution_count": null,
      "metadata": {
        "execution": {
          "iopub.execute_input": "2023-01-14T02:21:11.639174Z",
          "iopub.status.busy": "2023-01-14T02:21:11.638765Z",
          "iopub.status.idle": "2023-01-14T02:21:11.645120Z",
          "shell.execute_reply": "2023-01-14T02:21:11.644552Z"
        },
        "id": "3yU6SQGIFb3H"
      },
      "outputs": [],
      "source": [
        "train_ds.element_spec"
      ]
    },
    {
      "cell_type": "markdown",
      "metadata": {
        "id": "ppG9Dgq2Ex8R"
      },
      "source": [
        "This dataset only contains single channel audio, so use the `tf.squeeze` function to drop the extra axis:"
      ]
    },
    {
      "cell_type": "code",
      "execution_count": null,
      "metadata": {
        "execution": {
          "iopub.execute_input": "2023-01-14T02:21:11.648078Z",
          "iopub.status.busy": "2023-01-14T02:21:11.647575Z",
          "iopub.status.idle": "2023-01-14T02:21:11.798448Z",
          "shell.execute_reply": "2023-01-14T02:21:11.797804Z"
        },
        "id": "Xl-tnniUIBlM"
      },
      "outputs": [],
      "source": [
        "def squeeze(audio, labels):\n",
        "  audio= tf.squeeze(audio, axis=-1)\n",
        "  return audio, labels\n",
        "\n",
        "train_ds= train_ds.map(squeeze, tf.data.AUTOTUNE)\n",
        "val_ds=   val_ds.map(squeeze, tf.data.AUTOTUNE)"
      ]
    },
    {
      "cell_type": "markdown",
      "metadata": {
        "id": "DtsCSWZN5ILv"
      },
      "source": [
        "The `utils.audio_dataset_from_directory` function only returns up to two splits. It's a good idea to keep a test set separate from your validation set.\n",
        "Ideally you'd keep it in a separate directory, but in this case you can use `Dataset.shard` to split the validation set into two halves. Note that iterating over **any** shard will load **all** the data, and only keep its fraction. "
      ]
    },
    {
      "cell_type": "code",
      "execution_count": null,
      "metadata": {
        "id": "iL7Zdg4qMetj"
      },
      "outputs": [],
      "source": [
        "list(train_ds.take(1)) # 1 batch"
      ]
    },
    {
      "cell_type": "code",
      "execution_count": null,
      "metadata": {
        "execution": {
          "iopub.execute_input": "2023-01-14T02:21:11.802551Z",
          "iopub.status.busy": "2023-01-14T02:21:11.802086Z",
          "iopub.status.idle": "2023-01-14T02:21:11.807469Z",
          "shell.execute_reply": "2023-01-14T02:21:11.806840Z"
        },
        "id": "u5UEGsqM5Gss"
      },
      "outputs": [],
      "source": [
        "test_ds= val_ds.shard(num_shards=2, index=0)\n",
        "val_ds=  val_ds.shard(num_shards=2, index=1)"
      ]
    },
    {
      "cell_type": "code",
      "execution_count": null,
      "metadata": {
        "id": "nyK3eE7UMetj"
      },
      "outputs": [],
      "source": [
        "list(test_ds.take(1)) # 1 batch"
      ]
    },
    {
      "cell_type": "code",
      "execution_count": null,
      "metadata": {
        "execution": {
          "iopub.execute_input": "2023-01-14T02:21:11.810622Z",
          "iopub.status.busy": "2023-01-14T02:21:11.810039Z",
          "iopub.status.idle": "2023-01-14T02:21:11.933794Z",
          "shell.execute_reply": "2023-01-14T02:21:11.932995Z"
        },
        "id": "xIeoJcwJH5h9"
      },
      "outputs": [],
      "source": [
        "for example_audio, example_labels in train_ds.take(1):  \n",
        "  print(example_audio.shape)\n",
        "  print(example_labels.shape)"
      ]
    },
    {
      "cell_type": "markdown",
      "metadata": {
        "id": "voxGEwvuh2L7"
      },
      "source": [
        "Let's plot a few audio waveforms:"
      ]
    },
    {
      "cell_type": "code",
      "execution_count": null,
      "metadata": {
        "execution": {
          "iopub.execute_input": "2023-01-14T02:21:11.937615Z",
          "iopub.status.busy": "2023-01-14T02:21:11.937002Z",
          "iopub.status.idle": "2023-01-14T02:21:11.942144Z",
          "shell.execute_reply": "2023-01-14T02:21:11.941458Z"
        },
        "id": "dYtGq2zYNHuT"
      },
      "outputs": [],
      "source": [
        "label_names"
      ]
    },
    {
      "cell_type": "code",
      "execution_count": null,
      "metadata": {
        "execution": {
          "iopub.execute_input": "2023-01-14T02:21:11.945407Z",
          "iopub.status.busy": "2023-01-14T02:21:11.944826Z",
          "iopub.status.idle": "2023-01-14T02:21:13.059124Z",
          "shell.execute_reply": "2023-01-14T02:21:13.058502Z"
        },
        "id": "8yuX6Nqzf6wT"
      },
      "outputs": [],
      "source": [
        "rows = 3\n",
        "cols = 3\n",
        "n = rows * cols\n",
        "fig, axes = plt.subplots(rows, cols, figsize=(16, 9))\n",
        "\n",
        "for i in range(n):\n",
        "  if i>=n:\n",
        "    break\n",
        "  r = i // cols\n",
        "  c = i % cols\n",
        "  \n",
        "  label=     example_labels[i]\n",
        "  labelName= label_names[label]\n",
        "\n",
        "  label= f'{labelName}({label})'\n",
        "\n",
        "  ax = axes[r][c]\n",
        "  ax.plot(example_audio[i].numpy())\n",
        "  ax.set_yticks(np.arange(-1.2, 1.2, 0.2))\n",
        "  \n",
        "  ax.set_title(label)\n",
        "  ax.set_ylim([-1.1,1.1])\n",
        "\n",
        "plt.show()"
      ]
    },
    {
      "cell_type": "markdown",
      "metadata": {
        "id": "EWXPphxm0B4m"
      },
      "source": [
        "## Convert waveforms to spectrograms\n",
        "\n",
        "The waveforms in the dataset are represented in the time domain. Next, you'll transform the waveforms from the time-domain signals into the time-frequency-domain signals by computing the [short-time Fourier transform (STFT)](https://en.wikipedia.org/wiki/Short-time_Fourier_transform) to convert the waveforms to as [spectrograms](https://en.wikipedia.org/wiki/Spectrogram), which show frequency changes over time and can be represented as 2D images. You will feed the spectrogram images into your neural network to train the model.\n",
        "\n",
        "A Fourier transform (`tf.signal.fft`) converts a signal to its component frequencies, but loses all time information. In comparison, STFT (`tf.signal.stft`) splits the signal into windows of time and runs a Fourier transform on each window, preserving some time information, and returning a 2D tensor that you can run standard convolutions on.\n",
        "\n",
        "Create a utility function for converting waveforms to spectrograms:\n",
        "\n",
        "- The waveforms need to be of the same length, so that when you convert them to spectrograms, the results have similar dimensions. This can be done by simply zero-padding the audio clips that are shorter than one second (using `tf.zeros`).\n",
        "- When calling `tf.signal.stft`, choose the `frame_length` and `frame_step` parameters such that the generated spectrogram \"image\" is almost square. For more information on the STFT parameters choice, refer to [this Coursera video](https://www.coursera.org/lecture/audio-signal-processing/stft-2-tjEQe) on audio signal processing and STFT.\n",
        "- The STFT produces an array of complex numbers representing magnitude and phase. However, in this tutorial you'll only use the magnitude, which you can derive by applying `tf.abs` on the output of `tf.signal.stft`."
      ]
    },
    {
      "cell_type": "code",
      "execution_count": null,
      "metadata": {
        "execution": {
          "iopub.execute_input": "2023-01-14T02:21:13.063401Z",
          "iopub.status.busy": "2023-01-14T02:21:13.063126Z",
          "iopub.status.idle": "2023-01-14T02:21:13.067023Z",
          "shell.execute_reply": "2023-01-14T02:21:13.066445Z"
        },
        "id": "_4CK75DHz_OR"
      },
      "outputs": [],
      "source": [
        "def get_spectrogram(waveform):\n",
        "  # Convert the waveform to a spectrogram via a STFT.\n",
        "  \n",
        "  # padding n zeros to the end of the signal\n",
        "\n",
        "  frame_length= 256 # 255 # 256/16000= 0.016 sec\n",
        "  frame_step=   160 # 160/16000= 0.01 sec\n",
        "  padding_size= frame_length-frame_step # 16000= 1 sec\n",
        "  \n",
        "\n",
        "  #waveform_0= tf.pad( waveform, [[0, padding_size]]) # 16000= 1 sec\n",
        "  ##[[0, padding_size]]) # 16000= 1 sec\n",
        "\n",
        "  spectrogram = tf.signal.stft(\n",
        "      waveform, \n",
        "      frame_length= frame_length, # 255, # 256/16000= 0.016 sec\n",
        "      frame_step=   frame_step,  # 160/16000= 0.01 sec\n",
        "      #padding= 'SAME'\n",
        "      )\n",
        "  # Obtain the magnitude of the STFT.\n",
        "  spectrogram = tf.abs(spectrogram)\n",
        "  # Add a `channels` dimension, so that the spectrogram can be used\n",
        "  # as image-like input data with convolution layers (which expect\n",
        "  # shape (`batch_size`, `height`, `width`, `channels`).\n",
        "  spectrogram = spectrogram[..., tf.newaxis]\n",
        "  return spectrogram\n",
        "\n",
        "def get_mel_scaled_spectrogram(waveform):\n",
        "  # Convert the waveform to a spectrogram via a STFT.\n",
        "  spectrogram= tf.signal.stft(\n",
        "      waveform, \n",
        "      frame_length= 1024, \n",
        "      frame_step= 117 # 160*94//128= 117 \n",
        "                      # to generrate 128 frames exactly\n",
        "      )\n",
        "  # spectrogram.shape == (batch_size, 100, 513)\n",
        "  # 160*94//128= 117\n",
        "  # 160*94//100= 150\n",
        "  # 128*128= 16_384 ~ 16_000\n",
        "\n",
        "  # Obtain the magnitude of the STFT.\n",
        "  spectrogram= tf.abs(spectrogram)\n",
        "\n",
        "  # Compute the mel-scale spectrogram.\n",
        "  num_spectrogram_bins= spectrogram.shape[-1]\n",
        "  \n",
        "  lower_edge_hertz, upper_edge_hertz, num_mel_bins= 80.0, 7600.0, 128 #100 #128 #80\n",
        "\n",
        "  linear_to_mel_weight_matrix= tf.signal.linear_to_mel_weight_matrix(\n",
        "      num_mel_bins, \n",
        "      num_spectrogram_bins, \n",
        "      16_000, \n",
        "      lower_edge_hertz,\n",
        "      upper_edge_hertz\n",
        "      )\n",
        "  \n",
        "  mel_spectrogram= tf.tensordot(\n",
        "      spectrogram,\n",
        "      linear_to_mel_weight_matrix,  \n",
        "      1 \n",
        "      )\n",
        "  \n",
        "  mel_spectrogram= mel_spectrogram[..., tf.newaxis]\n",
        "\n",
        "  '''\n",
        "  # Compute a stabilized log to get log-magnitude mel-scale spectrograms.\n",
        "  log_mel_spectrogram = tf.math.log(mel_spectrogram + 1.e-6)\n",
        "  # Add a `channels` dimension, so that the spectrogram can be used\n",
        "  # as image-like input data with convolution layers (which expect\n",
        "(`batch_size`, `height`, `width`, `channels`).\n",
        "  log_mel_spectrogram= log_mel_spectrogram[..., tf.newaxis]\n",
        "  mel_spectrogram=     mel_spectrogram[..., tf.newaxis]\n",
        "  \n",
        "  spectrogram = log_mel_spectrogram\n",
        "  '''\n",
        "  spectrogram = mel_spectrogram\n",
        "  \n",
        "  return spectrogram\n",
        "\n",
        "get_spectrogram= get_mel_scaled_spectrogram\n"
      ]
    },
    {
      "cell_type": "markdown",
      "metadata": {
        "id": "5rdPiPYJphs2"
      },
      "source": [
        "Next, start exploring the data. Print the shapes of one example's tensorized waveform and the corresponding spectrogram, and play the original audio:"
      ]
    },
    {
      "cell_type": "code",
      "execution_count": null,
      "metadata": {
        "execution": {
          "iopub.execute_input": "2023-01-14T02:21:13.070289Z",
          "iopub.status.busy": "2023-01-14T02:21:13.069822Z",
          "iopub.status.idle": "2023-01-14T02:21:13.218902Z",
          "shell.execute_reply": "2023-01-14T02:21:13.218299Z"
        },
        "id": "4Mu6Y7Yz3C-V"
      },
      "outputs": [],
      "source": [
        "for i in range(3):\n",
        "  label=    label_names[example_labels[i]]\n",
        "  waveform= example_audio[i]\n",
        "\n",
        "  spectrogram= get_spectrogram(waveform)\n",
        "\n",
        "  print('Label:', label)\n",
        "  print('Waveform shape:', waveform.shape)\n",
        "  print('Spectrogram shape:', spectrogram.shape)\n",
        "  print('Audio playback')\n",
        "  display.display(display.Audio(waveform, rate=16000))"
      ]
    },
    {
      "cell_type": "markdown",
      "metadata": {
        "id": "xnSuqyxJ1isF"
      },
      "source": [
        "Now, define a function for displaying a spectrogram:"
      ]
    },
    {
      "cell_type": "code",
      "execution_count": null,
      "metadata": {
        "execution": {
          "iopub.execute_input": "2023-01-14T02:21:13.222297Z",
          "iopub.status.busy": "2023-01-14T02:21:13.221721Z",
          "iopub.status.idle": "2023-01-14T02:21:13.226612Z",
          "shell.execute_reply": "2023-01-14T02:21:13.225988Z"
        },
        "id": "e62jzb36-Jog"
      },
      "outputs": [],
      "source": [
        "def plot_spectrogram_ori(spectrogram, ax):\n",
        "  if len(spectrogram.shape) > 2:\n",
        "    assert len(spectrogram.shape) == 3\n",
        "    spectrogram = np.squeeze(spectrogram, axis=-1)\n",
        "  # Convert the frequencies to log scale and transpose, so that the time is\n",
        "  # represented on the x-axis (columns).\n",
        "  # Add an epsilon to avoid taking a log of zero.\n",
        "  log_spec= np.log(spectrogram.T + np.finfo(float).eps)\n",
        "  height=   log_spec.shape[0]\n",
        "  width=    log_spec.shape[1]\n",
        "  X= np.linspace(0, np.size(spectrogram), num=width, dtype=int)\n",
        "  Y= range(height)\n",
        "  ax.pcolormesh(X, Y, log_spec)\n",
        "\n",
        "def plot_spectrogram(spectrogram, ax):\n",
        "  if len(spectrogram.shape) > 2:\n",
        "    assert len(spectrogram.shape) == 3\n",
        "    spectrogram = np.squeeze(spectrogram, axis=-1)\n",
        "\n",
        "  # Convert the frequencies to log scale and transpose, so that the time is\n",
        "  # represented on the x-axis (columns).\n",
        "  # Add an epsilon to avoid taking a log of zero.\n",
        "  log_spec= np.log(\n",
        "    spectrogram.T # time in x-axis, freq in y-axis\n",
        "    + np.finfo(float).eps # a small number to avoid log(0)\n",
        "    )\n",
        "  height=   log_spec.shape[0]\n",
        "  width=    log_spec.shape[1]\n",
        "  \n",
        "  X= np.linspace(\n",
        "    0, \n",
        "    width, #np.size(spectrogram), \n",
        "    num= width, \n",
        "    dtype=int)\n",
        "\n",
        "  Y= range(height)\n",
        "\n",
        "  ax.pcolormesh(\n",
        "    X, \n",
        "    Y, \n",
        "    log_spec\n",
        "    )"
      ]
    },
    {
      "cell_type": "markdown",
      "metadata": {
        "id": "baa5c91e8603"
      },
      "source": [
        "Plot the example's waveform over time and the corresponding spectrogram (frequencies over time):"
      ]
    },
    {
      "cell_type": "code",
      "execution_count": null,
      "metadata": {
        "id": "mwxEuqjnMetm"
      },
      "outputs": [],
      "source": [
        "waveform.shape, spectrogram.shape"
      ]
    },
    {
      "cell_type": "code",
      "execution_count": null,
      "metadata": {
        "execution": {
          "iopub.execute_input": "2023-01-14T02:21:13.229508Z",
          "iopub.status.busy": "2023-01-14T02:21:13.229135Z",
          "iopub.status.idle": "2023-01-14T02:21:13.519339Z",
          "shell.execute_reply": "2023-01-14T02:21:13.518690Z"
        },
        "id": "d2_CikgY1tjv"
      },
      "outputs": [],
      "source": [
        "\n",
        "fig, axes = plt.subplots(2, figsize=(12, 8))\n",
        "#waveform= waveform[:16000]\n",
        "timescale = np.arange(waveform.shape[0])\n",
        "axes[0].plot(timescale, waveform.numpy())\n",
        "axes[0].set_title('Waveform')\n",
        "axes[0].set_xlim([0, 16_000])\n",
        "\n",
        "plot_spectrogram(spectrogram.numpy(), axes[1])\n",
        "axes[1].set_title('Spectrogram (mel-scaled)')\n",
        "plt.suptitle(label.title())\n",
        "plt.ylabel('freq in mel-scale')\n",
        "plt.xlabel('time in frames (.01 sec/frame)')\n",
        "plt.show()"
      ]
    },
    {
      "cell_type": "markdown",
      "metadata": {
        "id": "GyYXjW07jCHA"
      },
      "source": [
        "Now, create spectrogramn datasets from the audio datasets:"
      ]
    },
    {
      "cell_type": "code",
      "execution_count": null,
      "metadata": {
        "execution": {
          "iopub.execute_input": "2023-01-14T02:21:13.523538Z",
          "iopub.status.busy": "2023-01-14T02:21:13.523282Z",
          "iopub.status.idle": "2023-01-14T02:21:13.526886Z",
          "shell.execute_reply": "2023-01-14T02:21:13.526284Z"
        },
        "id": "mAD0LpkgqtQo"
      },
      "outputs": [],
      "source": [
        "def make_spec_ds(ds):\n",
        "  return ds.map(\n",
        "      map_func=lambda audio,label: (get_spectrogram(audio), label),\n",
        "      num_parallel_calls=tf.data.AUTOTUNE)"
      ]
    },
    {
      "cell_type": "code",
      "execution_count": null,
      "metadata": {
        "execution": {
          "iopub.execute_input": "2023-01-14T02:21:13.529868Z",
          "iopub.status.busy": "2023-01-14T02:21:13.529438Z",
          "iopub.status.idle": "2023-01-14T02:21:13.756464Z",
          "shell.execute_reply": "2023-01-14T02:21:13.755835Z"
        },
        "id": "yEVb_oK0oBLQ"
      },
      "outputs": [],
      "source": [
        "train_spectrogram_ds= make_spec_ds(train_ds)\n",
        "val_spectrogram_ds=   make_spec_ds(val_ds)\n",
        "test_spectrogram_ds=  make_spec_ds(test_ds)"
      ]
    },
    {
      "cell_type": "markdown",
      "metadata": {
        "id": "6gQpAAgMnyDi"
      },
      "source": [
        "Examine the spectrograms for different examples of the dataset:"
      ]
    },
    {
      "cell_type": "code",
      "execution_count": null,
      "metadata": {
        "execution": {
          "iopub.execute_input": "2023-01-14T02:21:13.760312Z",
          "iopub.status.busy": "2023-01-14T02:21:13.759698Z",
          "iopub.status.idle": "2023-01-14T02:21:14.124693Z",
          "shell.execute_reply": "2023-01-14T02:21:14.123852Z"
        },
        "id": "EaM2q5aGis-d"
      },
      "outputs": [],
      "source": [
        "for example_spectrograms, example_spect_labels in train_spectrogram_ds.take(1):\n",
        "  break"
      ]
    },
    {
      "cell_type": "code",
      "execution_count": null,
      "metadata": {
        "execution": {
          "iopub.execute_input": "2023-01-14T02:21:14.128915Z",
          "iopub.status.busy": "2023-01-14T02:21:14.128281Z",
          "iopub.status.idle": "2023-01-14T02:21:15.187560Z",
          "shell.execute_reply": "2023-01-14T02:21:15.186925Z"
        },
        "id": "QUbHfTuon4iF"
      },
      "outputs": [],
      "source": [
        "rows = 4\n",
        "cols = 4\n",
        "n = rows*cols\n",
        "fig, axes = plt.subplots(rows, cols, figsize=(16, 16))\n",
        "\n",
        "#np.random.seed(0)\n",
        "\n",
        "ryLabels= [\n",
        "  'yes',  'yes',\n",
        "  'no',   'no',\n",
        "  'go',   'go',\n",
        "  'stop', 'stop',\n",
        "  'up',   'up',\n",
        "  'down', 'down',\n",
        "  'left', 'left',\n",
        "  'right','right'\n",
        "]\n",
        "\n",
        "k=0\n",
        "for lab in ryLabels:\n",
        "    for i in range(n):\n",
        "        r = k // cols\n",
        "        c = k % cols\n",
        "        ax = axes[r][c]\n",
        "        \n",
        "        j= np.random.randint(0, len(example_spectrograms))\n",
        "        #j=i\n",
        "\n",
        "        x= example_spectrograms[j].numpy()\n",
        "        y= label_names[example_spect_labels[j].numpy()]\n",
        "        if y==lab:\n",
        "            plot_spectrogram(x, ax)\n",
        "            ax.set_title(y)\n",
        "            k+=1\n",
        "            break\n",
        "plt.show()"
      ]
    },
    {
      "cell_type": "markdown",
      "metadata": {
        "id": "z5KdY8IF8rkt"
      },
      "source": [
        "## Build and train the model"
      ]
    },
    {
      "cell_type": "markdown",
      "metadata": {
        "id": "GS1uIh6F_TN9"
      },
      "source": [
        "Add `Dataset.cache` and `Dataset.prefetch` operations to reduce read latency while training the model:"
      ]
    },
    {
      "cell_type": "code",
      "execution_count": null,
      "metadata": {
        "execution": {
          "iopub.execute_input": "2023-01-14T02:21:15.196732Z",
          "iopub.status.busy": "2023-01-14T02:21:15.196050Z",
          "iopub.status.idle": "2023-01-14T02:21:15.207872Z",
          "shell.execute_reply": "2023-01-14T02:21:15.207274Z"
        },
        "id": "fdZ6M-F5_QzY"
      },
      "outputs": [],
      "source": [
        "train_spectrogram_ds= train_spectrogram_ds.cache().shuffle(10_000).prefetch(tf.data.AUTOTUNE)\n",
        "val_spectrogram_ds=   val_spectrogram_ds.cache().prefetch(tf.data.AUTOTUNE)\n",
        "test_spectrogram_ds=  test_spectrogram_ds.cache().prefetch(tf.data.AUTOTUNE)"
      ]
    },
    {
      "cell_type": "markdown",
      "metadata": {
        "id": "rwHkKCQQb5oW"
      },
      "source": [
        "For the model, you'll use a simple convolutional neural network (CNN), since you have transformed the audio files into spectrogram images.\n",
        "\n",
        "Your `tf.keras.Sequential` model will use the following Keras preprocessing layers:\n",
        "\n",
        "- `tf.keras.layers.Resizing`: to downsample the input to enable the model to train faster.\n",
        "- `tf.keras.layers.Normalization`: to normalize each pixel in the image based on its mean and standard deviation.\n",
        "\n",
        "For the `Normalization` layer, its `adapt` method would first need to be called on the training data in order to compute aggregate statistics (that is, the mean and the standard deviation)."
      ]
    },
    {
      "cell_type": "code",
      "execution_count": null,
      "metadata": {
        "execution": {
          "iopub.execute_input": "2023-01-14T02:21:15.211294Z",
          "iopub.status.busy": "2023-01-14T02:21:15.211039Z",
          "iopub.status.idle": "2023-01-14T02:21:16.574518Z",
          "shell.execute_reply": "2023-01-14T02:21:16.573823Z"
        },
        "id": "ALYz7PFCHblP"
      },
      "outputs": [],
      "source": [
        "input_shape= example_spectrograms.shape[1:]\n",
        "num_labels=  len(label_names)\n",
        "\n",
        "print(f'{input_shape= }\\n{num_labels= }')\n",
        "\n",
        "# Instantiate the `tf.keras.layers.Normalization` layer.\n",
        "norm_layer= layers.Normalization()\n",
        "# Fit the state of the layer to the spectrograms\n",
        "# with `Normalization.adapt`.\n",
        "norm_layer.adapt(\n",
        "    data= train_spectrogram_ds.map(\n",
        "        map_func= lambda spec, label: spec))\n",
        "\n",
        "model= models.Sequential([\n",
        "    \n",
        "    layers.Input(shape= input_shape), \n",
        "    \n",
        "    # Downsample the input.\n",
        "    # (100, 100) --> (32, 32)\n",
        "\n",
        "    layers.Resizing(32, 32), \n",
        "    # 32*32= 1024 \n",
        "    # each spectrogram becomes an image of 32x32 pixels \n",
        "    \n",
        "    # Normalize.\n",
        "    norm_layer,\n",
        "    \n",
        "    layers.Conv2D(\n",
        "        32,    # filters \n",
        "        (5,5), # kernel_size\n",
        "        activation='relu',\n",
        "        padding='same'),\n",
        "    \n",
        "    layers.MaxPooling2D(pool_size=(2, 2)),\n",
        "    layers.Dropout(1/2),\n",
        "\n",
        "    layers.Conv2D(\n",
        "        64,    # filters\n",
        "        (3,3), # kernel_size\n",
        "        activation='relu',\n",
        "        padding='same'),\n",
        "    \n",
        "    layers.MaxPooling2D(pool_size=(2, 2)),\n",
        "    layers.Dropout(1/2),\n",
        "\n",
        "    layers.Conv2D(\n",
        "        128,    # filters\n",
        "        (2,2), # kernel_size\n",
        "        activation='relu',\n",
        "        padding='same'),\n",
        "    \n",
        "    layers.MaxPooling2D(pool_size=(2, 2)),\n",
        "    layers.Dropout(1/2),\n",
        "    \n",
        "    layers.Flatten(),\n",
        "    layers.Dense(256, activation='relu'),\n",
        "    layers.Dropout(1/2),\n",
        "    layers.Dense(64, activation='relu'),\n",
        "    layers.Dropout(1/2),\n",
        "    \n",
        "    layers.Dense(num_labels, activation='softmax'),\n",
        "])\n",
        "\n",
        "model.summary()\n"
      ]
    },
    {
      "cell_type": "markdown",
      "metadata": {
        "id": "mGnkn4b_Metp"
      },
      "source": [
        "```python\n",
        "Model: \"sequential\"\n",
        "_________________________________________________________________\n",
        " Layer (type)    Output Shape          Param #   \n",
        "=================================================================\n",
        "(Resizing)       (None, 32, 32,   1)   0      # (100,100,1) --> (32,32,1)\n",
        "(Normalization)  (None, 32, 32,   1)   3      # why 3?  \n",
        "(Conv2D)         (None, 32, 32,  20)   200    # 1*20*3*3 + 20 =   200\n",
        "(MaxPooling2D)   (None, 16, 16,  20)   0      \n",
        "(Dropout)        (None, 16, 16,  20)   0      \n",
        "(Conv2D)         (None, 16, 16,  50)   9_050  # 20*50*3*3 + 50 = 9,050\n",
        "(MaxPooling2D)   (None,  8,  8,  50)   0       \n",
        "(Dropout)        (None,  8,  8,  50)   0       \n",
        "(Conv2D)         (None,  8,  8, 100)   45_100 # 50*100*3*3 + 100 = 45,100\n",
        "(MaxPooling2D)   (None,  4,  4, 100)   0         \n",
        "(Dropout)        (None,  4,  4, 100)   0         \n",
        "(Flatten)        (None, 1_600)       0 # (32/2/2/2)*(32/2/2/2)*100= 1,600 \n",
        "(Dense)          (None, 256)         409_856 # 1600*256 + 256   = 409,856  \n",
        "(Dropout)        (None, 256)         0         \n",
        "(Dense)          (None, 64)          16_448  # 256*64 + 64 = 16,448\n",
        "(Dropout)        (None, 64)          0         \n",
        "(Dense)          (None, 8)           520     # 64*8 + 8 = 520\n",
        "=================================================================\n",
        "Total params: 481,177  \n",
        "Trainable params: 481,174  # 481,177 - 3 = 481,174\n",
        "Non-trainable params: 3\n",
        "_________________________________________________________________\n",
        "```"
      ]
    },
    {
      "cell_type": "markdown",
      "metadata": {
        "id": "de52e5afa2f3"
      },
      "source": [
        "Configure the Keras model with the Adam optimizer and the cross-entropy loss:"
      ]
    },
    {
      "cell_type": "code",
      "execution_count": null,
      "metadata": {
        "execution": {
          "iopub.execute_input": "2023-01-14T02:21:16.584627Z",
          "iopub.status.busy": "2023-01-14T02:21:16.584370Z",
          "iopub.status.idle": "2023-01-14T02:21:16.596558Z",
          "shell.execute_reply": "2023-01-14T02:21:16.595994Z"
        },
        "id": "wFjj7-EmsTD-"
      },
      "outputs": [],
      "source": [
        "model.compile(\n",
        "    optimizer= tf.keras.optimizers.Adam(),\n",
        "    loss= tf.keras.losses.SparseCategoricalCrossentropy(\n",
        "        from_logits=True\n",
        "    ),\n",
        "    metrics=['accuracy']\n",
        ")"
      ]
    },
    {
      "cell_type": "markdown",
      "metadata": {
        "id": "f42b9e3a4705"
      },
      "source": [
        "Train the model over 10 epochs for demonstration purposes:"
      ]
    },
    {
      "cell_type": "code",
      "execution_count": null,
      "metadata": {
        "execution": {
          "iopub.execute_input": "2023-01-14T02:21:16.599893Z",
          "iopub.status.busy": "2023-01-14T02:21:16.599477Z",
          "iopub.status.idle": "2023-01-14T02:21:31.321221Z",
          "shell.execute_reply": "2023-01-14T02:21:31.320407Z"
        },
        "id": "ttioPJVMcGtq"
      },
      "outputs": [],
      "source": [
        "EPOCHS= 100\n",
        "history= model.fit(\n",
        "    train_spectrogram_ds,\n",
        "    validation_data= val_spectrogram_ds,\n",
        "    epochs= EPOCHS,\n",
        "    callbacks= tf.keras.callbacks.EarlyStopping(\n",
        "        verbose=  1, \n",
        "        patience= 10,\n",
        "        restore_best_weights= True,\n",
        "        monitor=\"val_accuracy\",\n",
        "        \n",
        "        )\n",
        "    )\n",
        "\n",
        "# '''\n",
        "# Epoch 32/50\n",
        "# 100/100 [==============================] - 1s 9ms/step \n",
        "# - loss: 0.1749 - accuracy: 0.9430 \n",
        "# - val_loss: 0.3872 - val_accuracy: 0.8932\n",
        "# Epoch 32: early stopping\n",
        "# '''\n"
      ]
    },
    {
      "cell_type": "markdown",
      "metadata": {
        "id": "gjpCDeQ4mUfS"
      },
      "source": [
        "Let's plot the training and validation loss curves to check how your model has improved during training:"
      ]
    },
    {
      "cell_type": "code",
      "execution_count": null,
      "metadata": {
        "execution": {
          "iopub.execute_input": "2023-01-14T02:21:31.324962Z",
          "iopub.status.busy": "2023-01-14T02:21:31.324448Z",
          "iopub.status.idle": "2023-01-14T02:21:31.597874Z",
          "shell.execute_reply": "2023-01-14T02:21:31.597213Z"
        },
        "id": "nzhipg3Gu2AY"
      },
      "outputs": [],
      "source": [
        "metrics = history.history\n",
        "plt.figure(figsize=(16,6))\n",
        "plt.subplot(1,2,1)\n",
        "plt.plot(history.epoch, metrics['loss'], metrics['val_loss'])\n",
        "plt.legend(['loss', 'val_loss'])\n",
        "plt.ylim([0, max(plt.ylim())])\n",
        "plt.xlabel('Epoch')\n",
        "plt.ylabel('Loss [CrossEntropy]')\n",
        "\n",
        "plt.subplot(1,2,2)\n",
        "plt.plot(history.epoch, 100*np.array(metrics['accuracy']), 100*np.array(metrics['val_accuracy']))\n",
        "plt.legend(['accuracy', 'val_accuracy'])\n",
        "plt.ylim([0, 100])\n",
        "plt.xlabel('Epoch')\n",
        "plt.ylabel('Accuracy [%]')"
      ]
    },
    {
      "cell_type": "markdown",
      "metadata": {
        "id": "5ZTt3kO3mfm4"
      },
      "source": [
        "## Evaluate the model performance\n",
        "\n",
        "Run the model on the test set and check the model's performance:"
      ]
    },
    {
      "cell_type": "code",
      "execution_count": null,
      "metadata": {
        "execution": {
          "iopub.execute_input": "2023-01-14T02:21:31.601528Z",
          "iopub.status.busy": "2023-01-14T02:21:31.601256Z",
          "iopub.status.idle": "2023-01-14T02:21:31.896827Z",
          "shell.execute_reply": "2023-01-14T02:21:31.896080Z"
        },
        "id": "FapuRT_SsWGQ"
      },
      "outputs": [],
      "source": [
        "model.summary()\n"
      ]
    },
    {
      "cell_type": "markdown",
      "metadata": {
        "id": "2OhgidRbMetr"
      },
      "source": [
        "```python\n",
        "Model: \"sequential_3\"\n",
        "_________________________________________________________________\n",
        " Layer (type)                Output Shape              Param #   \n",
        "=================================================================\n",
        "(Resizing)       (None, 32, 32, 1)         0         \n",
        "\n",
        "(Normalization)  (None, 32, 32, 1)        3         \n",
        "                                                            \n",
        "\n",
        "(Conv2D)           (None, 32, 32, 20)        200       \n",
        "\n",
        "(MaxPooling2D)  (None, 16, 16, 20)       0         \n",
        "                                                             \n",
        "\n",
        "(Dropout)        (None, 16, 16, 20)        0         \n",
        "\n",
        "(Conv2D)          (None, 16, 16, 50)        9050      \n",
        "\n",
        "(MaxPooling2D)  (None, 8, 8, 50)         0         \n",
        "                                                             \n",
        "\n",
        "(Dropout)        (None, 8, 8, 50)          0         \n",
        "\n",
        "(Conv2D)          (None, 8, 8, 100)         45100     \n",
        "\n",
        "(MaxPooling2D)  (None, 4, 4, 100)        0         \n",
        "                                                            \n",
        "\n",
        "(Dropout)        (None, 4, 4, 100)         0         \n",
        "\n",
        "(Flatten)         (None, 1600)              0         \n",
        "\n",
        "(Dense)             (None, 256)               409856    \n",
        "\n",
        "(Dropout)        (None, 256)               0         \n",
        "\n",
        "(Dense)            (None, 64)                16448     \n",
        "\n",
        "(Dropout)        (None, 64)                0         \n",
        "\n",
        "(Dense)            (None, 8)                 520       \n",
        "\n",
        "=================================================================\n",
        "Total params: 481,177\n",
        "Trainable params: 481,174\n",
        "Non-trainable params: 3\n",
        "_________________________________________________________________\n",
        "```"
      ]
    },
    {
      "cell_type": "code",
      "execution_count": null,
      "metadata": {
        "id": "JDlXGZqvMets"
      },
      "outputs": [],
      "source": [
        "\n",
        "model.evaluate(test_spectrogram_ds, return_dict=True)"
      ]
    },
    {
      "cell_type": "markdown",
      "metadata": {
        "id": "en9Znt1NOabH"
      },
      "source": [
        "### Display a confusion matrix\n",
        "\n",
        "Use a [confusion matrix](https://developers.google.com/machine-learning/glossary#confusion-matrix) to check how well the model did classifying each of the commands in the test set:\n"
      ]
    },
    {
      "cell_type": "code",
      "execution_count": null,
      "metadata": {
        "execution": {
          "iopub.execute_input": "2023-01-14T02:21:31.900483Z",
          "iopub.status.busy": "2023-01-14T02:21:31.899777Z",
          "iopub.status.idle": "2023-01-14T02:21:32.050930Z",
          "shell.execute_reply": "2023-01-14T02:21:32.050248Z"
        },
        "id": "5Y6vmWWQuuT1"
      },
      "outputs": [],
      "source": [
        "y_pred = model.predict(test_spectrogram_ds)"
      ]
    },
    {
      "cell_type": "code",
      "execution_count": null,
      "metadata": {
        "execution": {
          "iopub.execute_input": "2023-01-14T02:21:32.054657Z",
          "iopub.status.busy": "2023-01-14T02:21:32.054135Z",
          "iopub.status.idle": "2023-01-14T02:21:32.059164Z",
          "shell.execute_reply": "2023-01-14T02:21:32.058560Z"
        },
        "id": "d6F0il82u7lW"
      },
      "outputs": [],
      "source": [
        "y_pred = tf.argmax(y_pred, axis=1)"
      ]
    },
    {
      "cell_type": "code",
      "execution_count": null,
      "metadata": {
        "execution": {
          "iopub.execute_input": "2023-01-14T02:21:32.062586Z",
          "iopub.status.busy": "2023-01-14T02:21:32.062076Z",
          "iopub.status.idle": "2023-01-14T02:21:32.109567Z",
          "shell.execute_reply": "2023-01-14T02:21:32.108887Z"
        },
        "id": "vHSNoBYLvX81"
      },
      "outputs": [],
      "source": [
        "y_true = tf.concat(list(test_spectrogram_ds.map(lambda s,lab: lab)), axis=0)"
      ]
    },
    {
      "cell_type": "code",
      "execution_count": null,
      "metadata": {
        "execution": {
          "iopub.execute_input": "2023-01-14T02:21:32.113180Z",
          "iopub.status.busy": "2023-01-14T02:21:32.112587Z",
          "iopub.status.idle": "2023-01-14T02:21:32.390255Z",
          "shell.execute_reply": "2023-01-14T02:21:32.389602Z"
        },
        "id": "LvoSAOiXU3lL"
      },
      "outputs": [],
      "source": [
        "confusion_mtx= tf.math.confusion_matrix(y_true, y_pred)\n",
        "\n",
        "recall=    confusion_mtx/np.sum(confusion_mtx, axis=1)\n",
        "precision= confusion_mtx/np.sum(confusion_mtx, axis=0)\n",
        "f1= 2*precision*recall/(precision+recall)\n",
        "\n"
      ]
    },
    {
      "cell_type": "code",
      "execution_count": null,
      "metadata": {
        "id": "JgX6Xk_fMett"
      },
      "outputs": [],
      "source": [
        "# Confusion matrix\n",
        "plt.figure(figsize=(10, 8))\n",
        "sns.heatmap(confusion_mtx,\n",
        "            xticklabels=label_names,\n",
        "            yticklabels=label_names,\n",
        "            annot=True, fmt='g') #, cmap='rainbow')\n",
        "plt.xlabel('Prediction')\n",
        "plt.ylabel('Label')\n",
        "plt.show()"
      ]
    },
    {
      "cell_type": "code",
      "execution_count": null,
      "metadata": {
        "id": "iVPmGYUQMett"
      },
      "outputs": [],
      "source": [
        "\n",
        "# Recall rate\n",
        "plt.figure(figsize=(10, 8))\n",
        "sns.heatmap(recall,\n",
        "            xticklabels=label_names,\n",
        "            yticklabels=label_names,\n",
        "            annot=True, fmt='g') #, cmap='rainbow')\n",
        "plt.xlabel('Prediction')\n",
        "plt.ylabel('Label')\n",
        "plt.show()\n"
      ]
    },
    {
      "cell_type": "code",
      "execution_count": null,
      "metadata": {
        "id": "0CTDeeprMett"
      },
      "outputs": [],
      "source": [
        "# Precision rate\n",
        "\n",
        "plt.figure(figsize=(10, 8))\n",
        "sns.heatmap(precision,\n",
        "            xticklabels=label_names,\n",
        "            yticklabels=label_names,\n",
        "            annot=True, fmt='g') #, cmap='rainbow')\n",
        "plt.xlabel('Prediction')\n",
        "plt.ylabel('Label')\n",
        "plt.show()\n"
      ]
    },
    {
      "cell_type": "code",
      "execution_count": null,
      "metadata": {
        "id": "HE5jlfj8Mett"
      },
      "outputs": [],
      "source": [
        "# F1 score\n",
        "\n",
        "plt.figure(figsize=(10, 8))\n",
        "sns.heatmap(f1,\n",
        "            xticklabels=label_names,\n",
        "            yticklabels=label_names,\n",
        "            annot=True, fmt='g') #, cmap='rainbow')\n",
        "plt.xlabel('Prediction')\n",
        "plt.ylabel('Label')\n",
        "plt.show()"
      ]
    },
    {
      "cell_type": "markdown",
      "metadata": {
        "id": "mQGi_mzPcLvl"
      },
      "source": [
        "## Run inference on an audio file\n",
        "\n",
        "Finally, verify the model's prediction output using an input audio file of someone saying \"no\". How well does your model perform?"
      ]
    },
    {
      "cell_type": "code",
      "execution_count": null,
      "metadata": {
        "execution": {
          "iopub.execute_input": "2023-01-14T02:21:32.394174Z",
          "iopub.status.busy": "2023-01-14T02:21:32.393622Z",
          "iopub.status.idle": "2023-01-14T02:21:32.572637Z",
          "shell.execute_reply": "2023-01-14T02:21:32.571967Z"
        },
        "id": "zRxauKMdhofU"
      },
      "outputs": [],
      "source": [
        "#import glob\n",
        "#glob.glob(f\"{data_dir}/stop/*.wav\")"
      ]
    },
    {
      "cell_type": "code",
      "execution_count": null,
      "metadata": {
        "id": "bVPYXaSWMetu"
      },
      "outputs": [],
      "source": [
        "inputWavL= [\n",
        "    'yes/0ab3b47d_nohash_0.wav',\n",
        "    'no/01bb6a2a_nohash_0.wav',\n",
        "    'go/0a9f9af7_nohash_0.wav',\n",
        "    'stop/012c8314_nohash_0.wav',\n",
        "    'up/0ab3b47d_nohash_0.wav',\n",
        "    'down/00b01445_nohash_1.wav',\n",
        "    'left/00b01445_nohash_0.wav',\n",
        "    'right/0ab3b47d_nohash_0.wav'\n",
        "    ]\n",
        "\n",
        "def rec_1_file(inputWav):\n",
        "    tgtLabel= inputWav.split('/')[0]\n",
        "\n",
        "    x= data_dir/inputWav\n",
        "\n",
        "    x= tf.io.read_file(str(x))\n",
        "    x, sample_rate= tf.audio.decode_wav(\n",
        "        x, \n",
        "        desired_channels=1, \n",
        "        desired_samples= 16_000)\n",
        "\n",
        "    x= tf.squeeze(x, axis=-1)\n",
        "    waveform= x\n",
        "    x= get_spectrogram(x)\n",
        "    x= x[tf.newaxis,...]\n",
        "\n",
        "    y_pred= model(x)\n",
        "    y_pred= y_pred[0]\n",
        "\n",
        "    x_labels= label_names\n",
        "\n",
        "    plt.bar(x_labels, y_pred)\n",
        "\n",
        "    plt.title(f'{tgtLabel= }')\n",
        "    plt.show()\n",
        "\n",
        "    display.display(display.Audio(waveform, rate=16_000))\n",
        "    return x, y_pred, tgtLabel\n"
      ]
    },
    {
      "cell_type": "code",
      "execution_count": null,
      "metadata": {
        "id": "reAYJLT1Metu"
      },
      "outputs": [],
      "source": [
        "\n",
        "for inputWav in inputWavL:\n",
        "    rec_1_file(inputWav)\n",
        "    "
      ]
    },
    {
      "cell_type": "code",
      "execution_count": null,
      "metadata": {
        "id": "FUIeyo2jMetu"
      },
      "outputs": [],
      "source": [
        "#model.save('model.h5')\n",
        "x= inputWavL[0]\n",
        "x, y, tgtLabel= rec_1_file(x)\n",
        "x, y, tgtLabel\n"
      ]
    },
    {
      "cell_type": "code",
      "execution_count": null,
      "metadata": {
        "id": "uJgVQ9UrMetu"
      },
      "outputs": [],
      "source": [
        "# find the index of the max value\n",
        "\n",
        "x0= x\n",
        "aL= [x0]\n",
        "for layer in model.layers:\n",
        "    x1= layer(x0)\n",
        "    aL += [x1]\n",
        "    x0= x1\n"
      ]
    },
    {
      "cell_type": "code",
      "execution_count": null,
      "metadata": {
        "id": "U4dIHWyiMetv"
      },
      "outputs": [],
      "source": [
        "[l.shape for l in aL]"
      ]
    },
    {
      "cell_type": "markdown",
      "metadata": {
        "id": "VgWICqdqQNaQ"
      },
      "source": [
        "As the output suggests, your model should have recognized the audio command as \"no\"."
      ]
    },
    {
      "cell_type": "markdown",
      "metadata": {
        "id": "h1icqlM3ISW0"
      },
      "source": [
        "## Export the model with preprocessing"
      ]
    },
    {
      "cell_type": "markdown",
      "metadata": {
        "id": "r7HX-MjgIbji"
      },
      "source": [
        "The model's not very easy to use if you have to apply those preprocessing steps before passing data to the model for inference. So build an end-to-end version:"
      ]
    },
    {
      "cell_type": "code",
      "execution_count": null,
      "metadata": {
        "execution": {
          "iopub.execute_input": "2023-01-14T02:21:32.576197Z",
          "iopub.status.busy": "2023-01-14T02:21:32.575662Z",
          "iopub.status.idle": "2023-01-14T02:21:32.581913Z",
          "shell.execute_reply": "2023-01-14T02:21:32.581271Z"
        },
        "id": "2lIeXdWjIbDE"
      },
      "outputs": [],
      "source": [
        "class ExportModel(tf.Module):\n",
        "  def __init__(self, model):\n",
        "    self.model = model\n",
        "\n",
        "    # Accept either a string-filename or a batch of waveforms.\n",
        "    # YOu could add additional signatures for a single wave, or a ragged-batch. \n",
        "    self.__call__.get_concrete_function(\n",
        "        x=tf.TensorSpec(shape=(), dtype=tf.string))\n",
        "    self.__call__.get_concrete_function(\n",
        "       x=tf.TensorSpec(shape=[None, 16000], dtype=tf.float32))\n",
        "\n",
        "\n",
        "  @tf.function\n",
        "  def __call__(self, x):\n",
        "    # If they pass a string, load the file and decode it. \n",
        "    if x.dtype == tf.string:\n",
        "      x = tf.io.read_file(x)\n",
        "      x, _ = tf.audio.decode_wav(x, desired_channels=1, desired_samples=16_000,)\n",
        "      x = tf.squeeze(x, axis=-1)\n",
        "      x = x[tf.newaxis, :]\n",
        "    \n",
        "    x = get_spectrogram(x)  \n",
        "    result = self.model(x, training=False)\n",
        "    \n",
        "    class_ids = tf.argmax(result, axis=-1)\n",
        "    class_names = tf.gather(label_names, class_ids)\n",
        "    return {'predictions':result,\n",
        "            'class_ids': class_ids,\n",
        "            'class_names': class_names}"
      ]
    },
    {
      "cell_type": "markdown",
      "metadata": {
        "id": "gtZBmUiB9HGY"
      },
      "source": [
        "Test run the \"export\" model:"
      ]
    },
    {
      "cell_type": "code",
      "execution_count": null,
      "metadata": {
        "execution": {
          "iopub.execute_input": "2023-01-14T02:21:32.585071Z",
          "iopub.status.busy": "2023-01-14T02:21:32.584578Z",
          "iopub.status.idle": "2023-01-14T02:21:32.864814Z",
          "shell.execute_reply": "2023-01-14T02:21:32.864139Z"
        },
        "id": "Z1_8TYaCIRue"
      },
      "outputs": [],
      "source": [
        "export= ExportModel(model)\n",
        "#export(tf.constant(str(data_dir/'no/01bb6a2a_nohash_0.wav')))\n",
        "aL= []\n",
        "for x in inputWavL:\n",
        "    \n",
        "    #x= tf.constant(str(data_dir/f'{x}'))\n",
        "    x= f'{data_dir}/{x}'\n",
        "    x= tf.constant(x)\n",
        "    y= export(x)\n",
        "    y= y['class_names'].numpy()[0]\n",
        "    aL += [(x, y)]\n",
        "aL"
      ]
    },
    {
      "cell_type": "markdown",
      "metadata": {
        "id": "1J6Iuz829Cxo"
      },
      "source": [
        "Save and reload the model, the reloaded model gives identical output:"
      ]
    },
    {
      "cell_type": "code",
      "execution_count": null,
      "metadata": {
        "execution": {
          "iopub.execute_input": "2023-01-14T02:21:32.868192Z",
          "iopub.status.busy": "2023-01-14T02:21:32.867843Z",
          "iopub.status.idle": "2023-01-14T02:21:34.690693Z",
          "shell.execute_reply": "2023-01-14T02:21:34.690054Z"
        },
        "id": "wTAg4vsn3oEb"
      },
      "outputs": [],
      "source": [
        "tf.saved_model.save(export, \"saved\")\n",
        "imported= tf.saved_model.load(\"saved\")\n",
        "#imported(waveform[tf.newaxis, :])\n",
        "#imported(inputWavL[0])\n",
        "aL= []\n",
        "for x in inputWavL:\n",
        "    \n",
        "    #x= tf.constant(str(data_dir/f'{x}'))\n",
        "    x= f'{data_dir}/{x}'\n",
        "    x= tf.constant(x)\n",
        "    y= imported(x)\n",
        "    y= y['class_names'].numpy()[0]\n",
        "    aL += [(x, y)]\n",
        "aL"
      ]
    },
    {
      "cell_type": "markdown",
      "metadata": {
        "id": "J3jF933m9z1J"
      },
      "source": [
        "## Next steps\n",
        "\n",
        "This tutorial demonstrated how to carry out simple audio classification/automatic speech recognition using a convolutional neural network with TensorFlow and Python. To learn more, consider the following resources:\n",
        "\n",
        "- The [Sound classification with YAMNet](https://www.tensorflow.org/hub/tutorials/yamnet) tutorial shows how to use transfer learning for audio classification.\n",
        "- The notebooks from [Kaggle's TensorFlow speech recognition challenge](https://www.kaggle.com/c/tensorflow-speech-recognition-challenge/overview).\n",
        "- The \n",
        "[TensorFlow.js - Audio recognition using transfer learning codelab](https://codelabs.developers.google.com/codelabs/tensorflowjs-audio-codelab/index.html#0) teaches how to build your own interactive web app for audio classification.\n",
        "- [A tutorial on deep learning for music information retrieval](https://arxiv.org/abs/1709.04396) (Choi et al., 2017) on arXiv.\n",
        "- TensorFlow also has additional support for [audio data preparation and augmentation](https://www.tensorflow.org/io/tutorials/audio) to help with your own audio-based projects.\n",
        "- Consider using the [librosa](https://librosa.org/) library for music and audio analysis."
      ]
    }
  ],
  "metadata": {
    "accelerator": "GPU",
    "colab": {
      "toc_visible": true,
      "private_outputs": true,
      "provenance": [],
      "include_colab_link": true
    },
    "kernelspec": {
      "display_name": "Python 3",
      "name": "python3"
    },
    "language_info": {
      "codemirror_mode": {
        "name": "ipython",
        "version": 3
      },
      "file_extension": ".py",
      "mimetype": "text/x-python",
      "name": "python",
      "nbconvert_exporter": "python",
      "pygments_lexer": "ipython3",
      "version": "3.9.12"
    },
    "gpuClass": "standard"
  },
  "nbformat": 4,
  "nbformat_minor": 0
}