{
  "nbformat": 4,
  "nbformat_minor": 0,
  "metadata": {
    "colab": {
      "private_outputs": true,
      "provenance": [],
      "authorship_tag": "ABX9TyOx5JWTpjfE/O3CoOpqLMIv",
      "include_colab_link": true
    },
    "kernelspec": {
      "name": "python3",
      "display_name": "Python 3"
    },
    "language_info": {
      "name": "python"
    }
  },
  "cells": [
    {
      "cell_type": "markdown",
      "metadata": {
        "id": "view-in-github",
        "colab_type": "text"
      },
      "source": [
        "<a href=\"https://colab.research.google.com/github/renyuanL/_JosephLin_2023/blob/main/confidenceInterval.ipynb\" target=\"_parent\"><img src=\"https://colab.research.google.com/assets/colab-badge.svg\" alt=\"Open In Colab\"/></a>"
      ]
    },
    {
      "cell_type": "code",
      "execution_count": null,
      "metadata": {
        "id": "NKvFarSVaiEf"
      },
      "outputs": [],
      "source": [
        "\n",
        "'''\n",
        "Example: Here are 20 residual flame times (in seconds) of treated specimens\n",
        "of children’s nightwear. (Don’t worry — children were not in the nightwear\n",
        "when the clothing was set on fire.)\n",
        "\n",
        "X= [\n",
        "    9.85, 9.93, 9.75, 9.77, 9.67,\n",
        "    9.87, 9.67, 9.94, 9.85, 9.75,\n",
        "    9.83, 9.92, 9.74, 9.99, 9.88,\n",
        "    9.95, 9.95, 9.93, 9.92, 9.89\n",
        "    ]\n",
        "\n",
        "Let’s get a 95% CI for the mean residual flame time.\n",
        "'''\n",
        "#%%\n",
        "X= [\n",
        "    9.85, 9.93, 9.75, 9.77, 9.67,\n",
        "    9.87, 9.67, 9.94, 9.85, 9.75,\n",
        "    9.83, 9.92, 9.74, 9.99, 9.88,\n",
        "    9.95, 9.95, 9.93, 9.92, 9.89\n",
        "    ]\n",
        "\n",
        "# find 95% CI for mean of X\n",
        "# 1. find mean of X\n",
        "mean= sum(X)/len(X)\n",
        "print('mean:', mean)\n",
        "\n",
        "# 2. find standard deviation of X\n",
        "# 2.1 find variance of X\n",
        "variance= sum([(x-mean)**2 for x in X])/(len(X)-1)\n",
        "print('variance:', variance)\n",
        "\n",
        "# 2.2 find standard deviation of X\n",
        "std= variance**0.5\n",
        "print('std:', std)\n",
        "\n",
        "# 3. find 95% CI for mean of X\n",
        "# 3.1 find t-value for 95% CI\n",
        "# 3.1.1 find degrees of freedom\n",
        "df= len(X)-1\n",
        "print('df:', df)\n",
        "\n",
        "# 3.1.2 find t-value for 95% CI\n",
        "#t_value= 2.093\n",
        "#print('t_value:', t_value)\n",
        "\n",
        "# 3.1.3 find t-value for 95% CI using scipy.stats\n",
        "import scipy.stats as stats\n",
        "t_value= stats.t.ppf(0.975, df)\n",
        "print('t_value:', t_value)\n",
        "\n",
        "# 3.2 find 95% CI for mean of X\n",
        "ci= [mean-t_value*std/(df**0.5), mean+t_value*std/(df**0.5)]\n",
        "print('95% CI:', ci)\n",
        "\n",
        "\n",
        "theResult= '''\n",
        "mean: 9.852499999999997\n",
        "variance: 0.009303947368421038\n",
        "std: 0.0964569715905545\n",
        "df: 19\n",
        "t_value: 2.093\n",
        "95% CI: [9.806184532687272, 9.898815467312723]\n",
        "'''\n"
      ]
    },
    {
      "cell_type": "code",
      "source": [
        "\n",
        "# %%\n",
        "# Path: conf_interval.py\n",
        "\n",
        "# find 95% CI for mean of X using scipy.stats\n",
        "import scipy.stats as stats\n",
        "import numpy as np\n",
        "\n",
        "X= [\n",
        "    9.85, 9.93, 9.75, 9.77, 9.67,\n",
        "    9.87, 9.67, 9.94, 9.85, 9.75,\n",
        "    9.83, 9.92, 9.74, 9.99, 9.88,\n",
        "    9.95, 9.95, 9.93, 9.92, 9.89\n",
        "    ]\n",
        "\n",
        "CI95= stats.t.interval(\n",
        "    0.95, \n",
        "    len(X)-1, \n",
        "    loc=   np.mean(X), \n",
        "    scale= stats.sem(X))\n",
        "\n",
        "print('95% CI:', CI95)\n",
        "\n",
        "theAnswer= '''\n",
        "95% CI: (9.807356747695982, 9.897643252304013)\n",
        "'''\n",
        "\n"
      ],
      "metadata": {
        "id": "KgqXUqCUbFMU"
      },
      "execution_count": null,
      "outputs": []
    },
    {
      "cell_type": "code",
      "source": [
        "\n",
        "# %%\n",
        "'''\n",
        "Example: Suppose we observe the weights of n = 25 interior linemen on a college\n",
        "football team. Assume that these are iid observations from a Nor(µ, σ^2) distribution,\n",
        "\n",
        "where we somehow know that the variance σ^2 = 324.\n",
        "\n",
        "X= [\n",
        "    262.4, 274.6, 245.0, 307.7, 281.6,\n",
        "    320.5, 261.7, 283.5, 273.5, 308.5,\n",
        "    257.7, 296.2, 294.8, 279.1, 242.1,\n",
        "    299.3, 254.5, 281.1, 297.4, 281.8,\n",
        "    315.8, 284.1, 286.2, 251.8, 258.6\n",
        "    ]\n",
        "'''\n",
        "\n",
        "X= [\n",
        "    262.4, 274.6, 245.0, 307.7, 281.6,\n",
        "    320.5, 261.7, 283.5, 273.5, 308.5,\n",
        "    257.7, 296.2, 294.8, 279.1, 242.1,\n",
        "    299.3, 254.5, 281.1, 297.4, 281.8,\n",
        "    315.8, 284.1, 286.2, 251.8, 258.6\n",
        "    ]\n",
        "\n",
        "# find 95% CI for mean of X, assuming sigma^2= 324\n",
        "# 1. find mean of X\n",
        "mean= sum(X)/len(X)\n",
        "print('mean:', mean)\n",
        "\n",
        "# 2. find standard deviation of X\n",
        "# 2.1 find variance of X\n",
        "variance= sum([(x-mean)**2 for x in X])/(len(X)-1)\n",
        "print('variance:', variance)\n",
        "\n",
        "# %%\n",
        "# 95% CI for mean of X, assuming sigma^2= 324\n",
        "# 1. find mean of X\n",
        "mean= sum(X)/len(X)\n",
        "print('mean:', mean)\n",
        "\n",
        "# 2 find z-value for 95% CI\n",
        "# 2.2.3 find z-value for 95% CI using scipy.stats\n",
        "import scipy.stats as stats\n",
        "\n",
        "z_value= stats.norm.ppf(0.975)\n",
        "print('z_value:', z_value)\n",
        "\n",
        "# 3. find 95% CI for mean of X\n",
        "σ2= 324\n",
        "std= σ2 **.5\n",
        "sem= std/(len(X)**.5)\n",
        "ci= [mean-z_value*sem, mean+z_value*sem]\n",
        "print('95% CI:', ci)\n",
        "\n"
      ],
      "metadata": {
        "id": "ZKlyvhlnbBal"
      },
      "execution_count": null,
      "outputs": []
    },
    {
      "cell_type": "code",
      "source": [
        "\n",
        "theResult= '''\n",
        "mean: 279.98\n",
        "z_value: 1.959963984540054\n",
        "95% CI: [272.9241296556558, 287.03587034434423]\n",
        "'''\n",
        "\n",
        "# %%\n",
        "stats.norm.interval(0.95, loc=mean, scale=sem)\n"
      ],
      "metadata": {
        "id": "waejUqFYa-yw"
      },
      "execution_count": null,
      "outputs": []
    },
    {
      "cell_type": "code",
      "source": [
        "\n",
        "# %%\n",
        "stats.norm.interval(0.95)\n"
      ],
      "metadata": {
        "id": "cbGPyO35bSOk"
      },
      "execution_count": null,
      "outputs": []
    },
    {
      "cell_type": "code",
      "source": [
        "\n",
        "# %%\n",
        "stats.t.interval(0.95, len(X)-1, loc=mean, scale=sem)\n"
      ],
      "metadata": {
        "id": "_qCkLL0WbRO3"
      },
      "execution_count": null,
      "outputs": []
    },
    {
      "cell_type": "code",
      "source": [
        "\n",
        "# %%\n",
        "stats.t.interval(0.95,100-1)\n",
        "# %%\n",
        "\n"
      ],
      "metadata": {
        "id": "9Bh2-c4PbTt3"
      },
      "execution_count": null,
      "outputs": []
    }
  ]
}